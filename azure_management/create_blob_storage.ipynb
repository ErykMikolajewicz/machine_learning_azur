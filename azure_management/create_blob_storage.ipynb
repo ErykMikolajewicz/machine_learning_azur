{
 "cells": [
  {
   "cell_type": "code",
   "execution_count": null,
   "id": "30177ee8",
   "metadata": {},
   "outputs": [],
   "source": [
    "from azure.ai.ml import MLClient\n",
    "from azure.identity import DefaultAzureCredential\n",
    "from azure.ai.ml.entities import AzureBlobDatastore, AccountKeyConfiguration"
   ]
  },
  {
   "cell_type": "code",
   "execution_count": 2,
   "id": "53345a59",
   "metadata": {},
   "outputs": [],
   "source": [
    "subscription_id = ''\n",
    "resource_group = 'EAM_TestResources'\n",
    "workspace = 'EAM_MachineLearning'\n",
    "blob_account_key = ''"
   ]
  },
  {
   "cell_type": "code",
   "execution_count": 3,
   "id": "df5c0515",
   "metadata": {},
   "outputs": [],
   "source": [
    "ml_client = MLClient(DefaultAzureCredential(), subscription_id, resource_group, workspace)"
   ]
  },
  {
   "cell_type": "code",
   "execution_count": null,
   "id": "bb4926b1",
   "metadata": {},
   "outputs": [],
   "source": [
    "medicinal_blob_datastore = AzureBlobDatastore(\n",
    "name='medicinal_blob_storage',\n",
    "description='Test datastore for traning models, mostly for classification.',\n",
    "account_name='eammachinelear3867040234',\n",
    "container_name='azureml',\n",
    "credentials=AccountKeyConfiguration(account_key=blob_account_key)\n",
    ")\n",
    "\n",
    "ml_client.create_or_update(medicinal_blob_datastore)"
   ]
  },
  {
   "cell_type": "code",
   "execution_count": null,
   "id": "8dbd1486",
   "metadata": {},
   "outputs": [],
   "source": []
  }
 ],
 "metadata": {
  "kernelspec": {
   "display_name": "Python 3 (ipykernel)",
   "language": "python",
   "name": "python3"
  },
  "language_info": {
   "codemirror_mode": {
    "name": "ipython",
    "version": 3
   },
   "file_extension": ".py",
   "mimetype": "text/x-python",
   "name": "python",
   "nbconvert_exporter": "python",
   "pygments_lexer": "ipython3",
   "version": "3.12.1"
  }
 },
 "nbformat": 4,
 "nbformat_minor": 5
}
