{
 "cells": [
  {
   "cell_type": "code",
   "execution_count": null,
   "id": "1fd899c6",
   "metadata": {},
   "outputs": [],
   "source": [
    "import json\n",
    "\n",
    "from azure.ai.ml import MLClient\n",
    "from azure.identity import DefaultAzureCredential\n",
    "\n",
    "with open('../secrets.json') as secrets_file:\n",
    "    secrets = json.load(secrets_file)\n",
    "\n",
    "SUBSCRIPTION_ID = secrets['SUBSCRIPTION_ID']\n",
    "resource_group = 'medicinal'\n",
    "workspace_name = 'medicinal_classification'\n",
    "\n",
    "ml_client = MLClient(DefaultAzureCredential(), SUBSCRIPTION_ID, resource_group, workspace_name)"
   ]
  },
  {
   "cell_type": "code",
   "execution_count": null,
   "id": "c1ac1b53",
   "metadata": {},
   "outputs": [],
   "source": [
    "from azure.ai.ml.entities import AzureBlobDatastore, AccountKeyConfiguration\n",
    "\n",
    "ACCOUNT_KEY = secrets['ACCOUNT_KEY']\n",
    "\n",
    "medicinal_blob_datastore = AzureBlobDatastore(\n",
    "name='medicinal_blob_storage',\n",
    "description='Test datastore for traning machine learning models to medicinal purposes.',\n",
    "account_name='eammachinelear3867040234',\n",
    "container_name='azureml',\n",
    "credentials=AccountKeyConfiguration(account_key=ACCOUNT_KEY)\n",
    ")\n",
    "\n",
    "ml_client.create_or_update(medicinal_blob_datastore)"
   ]
  },
  {
   "cell_type": "code",
   "execution_count": null,
   "id": "4c798031",
   "metadata": {},
   "outputs": [],
   "source": [
    "from azure.mgmt.resource import ResourceManagementClient\n",
    "\n",
    "resource_client = ResourceManagementClient(DefaultAzureCredential(), SUBSCRIPTION_ID )\n",
    "\n",
    "resource_client.resource_groups.create_or_update(\"medicinal\", {\"location\": \"polandcentral\"})"
   ]
  },
  {
   "cell_type": "code",
   "execution_count": null,
   "id": "33747ee5",
   "metadata": {},
   "outputs": [],
   "source": [
    "from azure.ai.ml.entities import Workspace\n",
    "\n",
    "workspace = Workspace(\n",
    "    name='medicinal_classification',\n",
    "    location='polandcentral',\n",
    "    description='Place to train medicinal models for classification.',\n",
    "    hbi_workspace=False,\n",
    "    tags={'purpose':'test'},\n",
    ")\n",
    "\n",
    "ml_client.workspaces.begin_create(workspace).result()"
   ]
  }
 ],
 "metadata": {
  "kernelspec": {
   "display_name": "Python 3 (ipykernel)",
   "language": "python",
   "name": "python3"
  },
  "language_info": {
   "codemirror_mode": {
    "name": "ipython",
    "version": 3
   },
   "file_extension": ".py",
   "mimetype": "text/x-python",
   "name": "python",
   "nbconvert_exporter": "python",
   "pygments_lexer": "ipython3",
   "version": "3.10.13"
  }
 },
 "nbformat": 4,
 "nbformat_minor": 5
}
