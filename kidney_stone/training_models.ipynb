{
 "cells": [
  {
   "cell_type": "code",
   "execution_count": 1,
   "id": "343776f0-79c4-4d9e-8a7f-4cde7b8a4b19",
   "metadata": {},
   "outputs": [],
   "source": [
    "import os\n",
    "\n",
    "import mltable\n",
    "from azure.ai.ml import MLClient\n",
    "from azure.identity import DefaultAzureCredential\n",
    "import mlflow\n",
    "\n",
    "from scipy.stats import loguniform\n",
    "\n",
    "from sklearn.preprocessing import StandardScaler\n",
    "from sklearn.decomposition import PCA\n",
    "from sklearn.neighbors import KNeighborsClassifier\n",
    "from sklearn.svm import SVC\n",
    "from sklearn.pipeline import make_pipeline\n",
    "from sklearn.model_selection import GridSearchCV, RandomizedSearchCV"
   ]
  },
  {
   "cell_type": "code",
   "execution_count": 2,
   "id": "8f8acdef-ef86-44c5-b097-90ff9ff8ec19",
   "metadata": {},
   "outputs": [],
   "source": [
    "mlflow.start_run()\n",
    "\n",
    "mlflow.sklearn.autolog()\n",
    "\n",
    "os.makedirs(\"./output\", exist_ok=True)"
   ]
  },
  {
   "cell_type": "code",
   "execution_count": null,
   "id": "295281b6-f8fd-48fd-8cfa-c0f2ae4ae796",
   "metadata": {
    "scrolled": true
   },
   "outputs": [],
   "source": [
    "ml_client = MLClient.from_config(credential=DefaultAzureCredential())\n",
    "data_asset = ml_client.data.get(\"kidney-stone\", version=\"2\")\n",
    "\n",
    "table = mltable.load(f'azureml:/{data_asset.id}')\n",
    "\n",
    "data = table.to_pandas_dataframe()"
   ]
  },
  {
   "cell_type": "code",
   "execution_count": 4,
   "id": "95d7a218-6e58-48e6-bce9-b7f02308de66",
   "metadata": {},
   "outputs": [],
   "source": [
    "features = data.drop(['target'], axis=1)\n",
    "target = data['target']\n",
    "\n",
    "knn_pipeline = make_pipeline(PCA(n_components=3),\n",
    "                             StandardScaler(),\n",
    "                             KNeighborsClassifier(),\n",
    "                             memory='cache')"
   ]
  },
  {
   "cell_type": "code",
   "execution_count": 5,
   "id": "ff59a6e0-cc42-45e8-afb7-5564a07b66c8",
   "metadata": {},
   "outputs": [],
   "source": [
    "grid_parameters = {'kneighborsclassifier__n_neighbors': [i for i in range(1, 17, 2)],\n",
    "                   'kneighborsclassifier__weights': ['uniform', 'distance']}\n",
    "\n",
    "grid_search = GridSearchCV(knn_pipeline, grid_parameters)"
   ]
  },
  {
   "cell_type": "code",
   "execution_count": 6,
   "id": "a2895908-2429-4335-849d-8dcebde31798",
   "metadata": {},
   "outputs": [
    {
     "name": "stderr",
     "output_type": "stream",
     "text": [
      "2024/03/02 22:48:38 WARNING mlflow.utils.autologging_utils: MLflow autologging encountered a warning: \"/anaconda/envs/azureml_py310_sdkv2/lib/python3.10/site-packages/_distutils_hack/__init__.py:33: UserWarning: Setuptools is replacing distutils.\"\n",
      "2024/03/02 22:48:41 INFO mlflow.sklearn.utils: Logging the 5 best runs, 11 runs will be omitted.\n"
     ]
    },
    {
     "name": "stdout",
     "output_type": "stream",
     "text": [
      "Best score: 0.7616666666666667 Parameters: {'kneighborsclassifier__n_neighbors': 1, 'kneighborsclassifier__weights': 'uniform'}\n"
     ]
    }
   ],
   "source": [
    "grid_search.fit(features, target)\n",
    "print('Best score:', grid_search.best_score_, 'Parameters:', grid_search.best_params_)"
   ]
  },
  {
   "cell_type": "code",
   "execution_count": null,
   "id": "60fb1123-dbc8-4095-9f5a-8a1347df1c0f",
   "metadata": {
    "scrolled": true
   },
   "outputs": [],
   "source": [
    "mlflow.sklearn.log_model(sk_model=knn_pipeline, registered_model_name='knn_model', artifact_path='artifacts_knn')"
   ]
  },
  {
   "cell_type": "code",
   "execution_count": 8,
   "id": "7912d3a0-fea1-42dc-b310-3f147a91d2bc",
   "metadata": {},
   "outputs": [],
   "source": [
    "svc_pipeline = knn_pipeline\n",
    "svc_pipeline.steps[-1] = ['svc', SVC(random_state=42, kernel='rbf')]"
   ]
  },
  {
   "cell_type": "code",
   "execution_count": 9,
   "id": "6c713cb5-864c-4894-bed9-cabe46667428",
   "metadata": {},
   "outputs": [],
   "source": [
    "regularization_range = loguniform(0.001, 10000.0)\n",
    "gamma_range = loguniform(0.001, 10.0)\n",
    "\n",
    "random_parameters = {'svc__C': regularization_range, 'svc__gamma':gamma_range}\n",
    "random_search = RandomizedSearchCV(svc_pipeline, random_parameters, random_state=42)"
   ]
  },
  {
   "cell_type": "code",
   "execution_count": 10,
   "id": "b64529b5-1d1c-47e4-8fdb-528ba410ba45",
   "metadata": {},
   "outputs": [
    {
     "name": "stderr",
     "output_type": "stream",
     "text": [
      "2024/03/02 22:49:12 WARNING mlflow.utils.autologging_utils: Encountered unexpected error during sklearn autologging: UserError: Resource Conflict: ArtifactId ExperimentRun/dcid.3fd7696f-8ba7-431f-8cf3-ae09cb992dcb/training_precision_recall_curve.png already exists.\n",
      "UserError: Resource Conflict: ArtifactId ExperimentRun/dcid.3fd7696f-8ba7-431f-8cf3-ae09cb992dcb/training_confusion_matrix.png already exists.\n",
      "UserError: Resource Conflict: ArtifactId ExperimentRun/dcid.3fd7696f-8ba7-431f-8cf3-ae09cb992dcb/training_roc_curve.png already exists.\n"
     ]
    },
    {
     "name": "stdout",
     "output_type": "stream",
     "text": [
      "Best score: 0.7341666666666666 Parameters: {'svc__C': 671.5811311069941, 'svc__gamma': 0.007068974950624601}\n"
     ]
    }
   ],
   "source": [
    "random_search.fit(features, target)\n",
    "print('Best score:', random_search.best_score_, 'Parameters:', random_search.best_params_)"
   ]
  },
  {
   "cell_type": "code",
   "execution_count": null,
   "id": "a022f134-1802-440b-a349-c4636ae4b047",
   "metadata": {
    "scrolled": true
   },
   "outputs": [],
   "source": [
    "mlflow.sklearn.log_model(sk_model=svc_pipeline, registered_model_name='svc_model', artifact_path='artifacts_svc')"
   ]
  },
  {
   "cell_type": "code",
   "execution_count": 12,
   "id": "a79b232f-2c2c-41ac-a83b-bc4750cf8eaa",
   "metadata": {},
   "outputs": [],
   "source": [
    "mlflow.end_run()"
   ]
  },
  {
   "cell_type": "code",
   "execution_count": null,
   "id": "c3cddaa4-6f44-4ae9-a4f8-d9e36a83e2c9",
   "metadata": {},
   "outputs": [],
   "source": []
  }
 ],
 "metadata": {
  "kernelspec": {
   "display_name": "Python 3 (ipykernel)",
   "language": "python",
   "name": "python3"
  },
  "language_info": {
   "codemirror_mode": {
    "name": "ipython",
    "version": 3
   },
   "file_extension": ".py",
   "mimetype": "text/x-python",
   "name": "python",
   "nbconvert_exporter": "python",
   "pygments_lexer": "ipython3",
   "version": "3.12.1"
  }
 },
 "nbformat": 4,
 "nbformat_minor": 5
}
