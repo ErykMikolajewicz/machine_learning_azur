{
 "cells": [
  {
   "cell_type": "code",
   "execution_count": 1,
   "metadata": {},
   "outputs": [],
   "source": [
    "import json\n",
    "\n",
    "from azure.ai.ml import MLClient\n",
    "from azure.identity import DefaultAzureCredential\n",
    "\n",
    "with open('secrets.json') as secrets_file:\n",
    "    secrets = json.load(secrets_file)\n",
    "\n",
    "SUBSCRIPTION_ID = secrets['SUBSCRIPTION_ID']\n",
    "RESOURCE_GROUP = 'medicinal'\n",
    "WORKSPACE_NAME = 'medicinal_classification'\n",
    "\n",
    "ml_client = MLClient(credential=DefaultAzureCredential(),\n",
    "                     subscription_id=SUBSCRIPTION_ID,\n",
    "                     resource_group_name=RESOURCE_GROUP,\n",
    "                     workspace_name=WORKSPACE_NAME\n",
    "                        )"
   ]
  },
  {
   "cell_type": "code",
   "execution_count": 2,
   "metadata": {},
   "outputs": [],
   "source": [
    "import mlflow\n",
    "\n",
    "mlflow_tracking_uri = ml_client.workspaces.get(ml_client.workspace_name).mlflow_tracking_uri\n",
    "mlflow.set_tracking_uri(mlflow_tracking_uri)"
   ]
  },
  {
   "cell_type": "code",
   "execution_count": 3,
   "metadata": {},
   "outputs": [],
   "source": [
    "mlflow.set_experiment(\"kidney_stone_training\")\n",
    "mlflow_run = mlflow.start_run()"
   ]
  },
  {
   "cell_type": "code",
   "execution_count": 5,
   "metadata": {},
   "outputs": [],
   "source": [
    "from azure.ai.ml.entities import Environment\n",
    "\n",
    "environment = Environment(name='local_kidney_stone',\n",
    "                          image='mcr.microsoft.com/azureml/curated/sklearn-1.1:26'\n",
    "                          )"
   ]
  },
  {
   "cell_type": "code",
   "execution_count": 12,
   "metadata": {},
   "outputs": [
    {
     "name": "stderr",
     "output_type": "stream",
     "text": [
      "Warning: the provided asset name 'local_kidney_stone' will not be used for anonymous registration\n",
      "Warning: the provided asset name 'local_kidney_stone' will not be used for anonymous registration\n"
     ]
    },
    {
     "data": {
      "text/html": [
       "<table style=\"width:100%\"><tr><th>Experiment</th><th>Name</th><th>Type</th><th>Status</th><th>Details Page</th></tr><tr><td>kidney_stone_training</td><td>kidney_stone</td><td>command</td><td>Starting</td><td><a href=\"https://ml.azure.com/runs/kidney_stone?wsid=/subscriptions/9a21220f-f0ff-4103-8cf2-1302553639e6/resourcegroups/medicinal/workspaces/medicinal_classification&amp;tid=d0da435b-a7e7-4d74-a4ae-f72cf8f3b2db\" target=\"_blank\" rel=\"noopener\">Link to Azure Machine Learning studio</a></td></tr></table>"
      ],
      "text/plain": [
       "Command({'parameters': {}, 'init': False, 'name': 'kidney_stone', 'type': 'command', 'status': 'Starting', 'log_files': None, 'description': None, 'tags': {}, 'properties': {'mlflow.source.git.repoURL': 'https://github.com/ErykMikolajewicz/machine_learning_azur', 'mlflow.source.git.branch': 'master', 'mlflow.source.git.commit': '8e336d56eb8b9654f6fdba549792ec442d6690c8', 'azureml.git.dirty': 'True', '_azureml.ComputeTargetType': 'local', '_azureml.ClusterName': 'Local', 'ContentSnapshotId': '6a9f217f-5e09-461f-b960-fa253dedc67a'}, 'print_as_yaml': True, 'id': '/subscriptions/9a21220f-f0ff-4103-8cf2-1302553639e6/resourceGroups/medicinal/providers/Microsoft.MachineLearningServices/workspaces/medicinal_classification/jobs/kidney_stone', 'Resource__source_path': None, 'base_path': '/home/eryk/Programing/data_science/cloud_med_predictions', 'creation_context': <azure.ai.ml.entities._system_data.SystemData object at 0x7ff5b3e6d120>, 'serialize': <msrest.serialization.Serializer object at 0x7ff5b3e6f880>, 'allowed_keys': {}, 'key_restriction': False, 'logger': <Logger attr_dict (WARNING)>, 'display_name': 'kidney stone: 2024-03-11 21:06:57.996344', 'experiment_name': 'kidney_stone_training', 'compute': 'local', 'services': {'Tracking': {'endpoint': 'azureml://polandcentral.api.azureml.ms/mlflow/v1.0/subscriptions/9a21220f-f0ff-4103-8cf2-1302553639e6/resourceGroups/medicinal/providers/Microsoft.MachineLearningServices/workspaces/medicinal_classification?', 'type': 'Tracking'}, 'Studio': {'endpoint': 'https://ml.azure.com/runs/kidney_stone?wsid=/subscriptions/9a21220f-f0ff-4103-8cf2-1302553639e6/resourcegroups/medicinal/workspaces/medicinal_classification&tid=d0da435b-a7e7-4d74-a4ae-f72cf8f3b2db', 'type': 'Studio'}}, 'comment': None, 'job_inputs': {}, 'job_outputs': {'default': {'type': 'uri_folder', 'path': 'azureml://datastores/workspaceartifactstore/ExperimentRun/dcid.kidney_stone', 'mode': 'rw_mount'}}, 'inputs': {}, 'outputs': {'default': <azure.ai.ml.entities._job.pipeline._io.base.NodeOutput object at 0x7ff5b3e6ed40>}, 'component': CommandComponent({'intellectual_property': None, 'auto_increment_version': True, 'source': 'REMOTE.WORKSPACE.JOB', 'is_anonymous': False, 'auto_delete_setting': None, 'name': 'kidney_stone', 'description': None, 'tags': {}, 'properties': {}, 'print_as_yaml': True, 'id': None, 'Resource__source_path': None, 'base_path': '/home/eryk/Programing/data_science/cloud_med_predictions', 'creation_context': <azure.ai.ml.entities._system_data.SystemData object at 0x7ff5b3e6d120>, 'serialize': <msrest.serialization.Serializer object at 0x7ff5b3e6eb60>, 'command': 'python3 train_models.py', 'code': '/subscriptions/9a21220f-f0ff-4103-8cf2-1302553639e6/resourceGroups/medicinal/providers/Microsoft.MachineLearningServices/workspaces/medicinal_classification/codes/781a9e00-bbcc-411f-bd23-21deb0009223/versions/1', 'environment_variables': {'AZUREML_COMPUTE_USE_COMMON_RUNTIME': 'true'}, 'environment': 'azureml://locations/polandcentral/workspaces/536de0b5-7b39-4584-8e1c-484c681b642b/environments/local_kidney_stone/versions/15', 'distribution': None, 'resources': None, 'queue_settings': None, 'version': None, 'latest_version': None, 'schema': None, 'type': 'command', 'display_name': 'kidney stone: 2024-03-11 21:06:57.996344', 'is_deterministic': True, 'inputs': {}, 'outputs': {'default': {'type': 'uri_folder', 'path': 'azureml://datastores/workspaceartifactstore/ExperimentRun/dcid.kidney_stone', 'mode': 'rw_mount'}}, 'yaml_str': None, 'other_parameter': {'status': 'Starting', 'parameters': {}}, 'additional_includes': []}), 'referenced_control_flow_node_instance_id': None, 'kwargs': {'services': {'Tracking': {'endpoint': 'azureml://polandcentral.api.azureml.ms/mlflow/v1.0/subscriptions/9a21220f-f0ff-4103-8cf2-1302553639e6/resourceGroups/medicinal/providers/Microsoft.MachineLearningServices/workspaces/medicinal_classification?', 'type': 'Tracking'}, 'Studio': {'endpoint': 'https://ml.azure.com/runs/kidney_stone?wsid=/subscriptions/9a21220f-f0ff-4103-8cf2-1302553639e6/resourcegroups/medicinal/workspaces/medicinal_classification&tid=d0da435b-a7e7-4d74-a4ae-f72cf8f3b2db', 'type': 'Studio'}}, 'status': 'Starting', 'creation_context': <azure.ai.ml.entities._system_data.SystemData object at 0x7ff5b3e6d120>}, 'instance_id': '476d7a04-4206-4e3a-9f13-f749893e4372', 'source': 'BUILDER', 'validate_required_input_not_provided': True, 'limits': <azure.ai.ml.entities._job.job_limits.CommandJobLimits object at 0x7ff5b3e6f820>, 'identity': None, 'distribution': None, 'environment_variables': {'AZUREML_COMPUTE_USE_COMMON_RUNTIME': 'true'}, 'environment': 'azureml://locations/polandcentral/workspaces/536de0b5-7b39-4584-8e1c-484c681b642b/environments/local_kidney_stone/versions/15', 'resources': {'instance_count': 1}, 'queue_settings': {'job_tier': 'standard'}, 'swept': False})"
      ]
     },
     "execution_count": 12,
     "metadata": {},
     "output_type": "execute_result"
    }
   ],
   "source": [
    "from datetime import datetime\n",
    "\n",
    "from azure.ai.ml import command\n",
    "\n",
    "command_job = command(\n",
    "    name='kidney_stone',\n",
    "    display_name=f'kidney stone: {datetime.now()}',\n",
    "    code=\"./kidney_stone\",\n",
    "    command=\"python3 train_models.py\",\n",
    "    experiment_name='kidney_stone_training',\n",
    "    environment=environment,\n",
    "    compute=\"local\"\n",
    ")\n",
    "\n",
    "ml_client.jobs.create_or_update(command_job)"
   ]
  }
 ],
 "metadata": {
  "kernelspec": {
   "display_name": ".venv",
   "language": "python",
   "name": "python3"
  },
  "language_info": {
   "codemirror_mode": {
    "name": "ipython",
    "version": 3
   },
   "file_extension": ".py",
   "mimetype": "text/x-python",
   "name": "python",
   "nbconvert_exporter": "python",
   "pygments_lexer": "ipython3",
   "version": "3.10.13"
  }
 },
 "nbformat": 4,
 "nbformat_minor": 2
}
